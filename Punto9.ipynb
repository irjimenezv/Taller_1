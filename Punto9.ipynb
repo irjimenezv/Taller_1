{
  "nbformat": 4,
  "nbformat_minor": 0,
  "metadata": {
    "colab": {
      "provenance": [],
      "authorship_tag": "ABX9TyP1ZWQsBJtuyMASUEkatjZ3",
      "include_colab_link": true
    },
    "kernelspec": {
      "name": "python3",
      "display_name": "Python 3"
    },
    "language_info": {
      "name": "python"
    }
  },
  "cells": [
    {
      "cell_type": "markdown",
      "metadata": {
        "id": "view-in-github",
        "colab_type": "text"
      },
      "source": [
        "<a href=\"https://colab.research.google.com/github/irjimenezv/Taller_1/blob/main/Punto9.ipynb\" target=\"_parent\"><img src=\"https://colab.research.google.com/assets/colab-badge.svg\" alt=\"Open In Colab\"/></a>"
      ]
    },
    {
      "cell_type": "code",
      "execution_count": 3,
      "metadata": {
        "colab": {
          "base_uri": "https://localhost:8080/"
        },
        "id": "1qPxKv52uLRM",
        "outputId": "3e08cfdb-08a4-4c28-aeb0-714a234f1a0d"
      },
      "outputs": [
        {
          "output_type": "stream",
          "name": "stdout",
          "text": [
            "argentina\n",
            "buenos aires\n"
          ]
        }
      ],
      "source": [
        "x= str(input())\n",
        "\n",
        "if x == (\"colombia\"):\n",
        "    print(\"Bogota\")\n",
        "\n",
        "elif x== (\"venezuela\"):\n",
        "    print(\"caracas\")\n",
        "\n",
        "elif x== (\"argentina\"):\n",
        "    print(\"buenos aires\")\n",
        "\n",
        "elif x== (\"ecuador\"):\n",
        "    print(\"quito\")\n",
        "\n",
        "elif x== (\"peru\"):\n",
        "    print(\"lima\")\n",
        "\n",
        "elif x== (\"brasil\"):\n",
        "    print(\"brasilia\")\n",
        "\n",
        "elif x== (\"bolivia\"):\n",
        "    print(\"sucre\")\n",
        "\n",
        "elif x== (\"paraguay\"):\n",
        "    print(\"asuncion\")\n",
        "\n",
        "elif x== (\"chile\"):\n",
        "    print(\"santiago de chile\")\n",
        "\n",
        "elif x== (\"uruguay\"):\n",
        "    print(\"montevideo\")\n",
        "\n",
        "elif x== (\"surinam\"):\n",
        "    print(\"paramaribo\")\n",
        "\n",
        "elif x== (\"guyana\"):\n",
        "    print(\"georgetown\")\n",
        "\n",
        "else:\n",
        "    print(\"pais no identificado\")"
      ]
    }
  ]
}