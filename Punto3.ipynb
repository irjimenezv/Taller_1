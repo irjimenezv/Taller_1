{
  "nbformat": 4,
  "nbformat_minor": 0,
  "metadata": {
    "colab": {
      "provenance": [],
      "authorship_tag": "ABX9TyOKRgENLwFkP+1jdB6wVKrL",
      "include_colab_link": true
    },
    "kernelspec": {
      "name": "python3",
      "display_name": "Python 3"
    },
    "language_info": {
      "name": "python"
    }
  },
  "cells": [
    {
      "cell_type": "markdown",
      "metadata": {
        "id": "view-in-github",
        "colab_type": "text"
      },
      "source": [
        "<a href=\"https://colab.research.google.com/github/irjimenezv/Taller_1/blob/main/Punto3.ipynb\" target=\"_parent\"><img src=\"https://colab.research.google.com/assets/colab-badge.svg\" alt=\"Open In Colab\"/></a>"
      ]
    },
    {
      "cell_type": "code",
      "execution_count": 1,
      "metadata": {
        "colab": {
          "base_uri": "https://localhost:8080/"
        },
        "id": "fw1MBlnSw7nr",
        "outputId": "1480d864-a4f8-4b5e-9c96-0b51b7fb8390"
      },
      "outputs": [
        {
          "output_type": "stream",
          "name": "stdout",
          "text": [
            "65\n",
            "El numero 65 es impar\n"
          ]
        }
      ],
      "source": [
        "x = int(input())\n",
        "\n",
        "if x % 2 == 0:\n",
        "    print(\"El numero\",(x),\"es par\")\n",
        "\n",
        "else:\n",
        "    print(\"El numero\",(x),\"es impar\")"
      ]
    }
  ]
}