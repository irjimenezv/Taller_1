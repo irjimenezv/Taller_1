{
  "nbformat": 4,
  "nbformat_minor": 0,
  "metadata": {
    "colab": {
      "provenance": [],
      "authorship_tag": "ABX9TyMCS3Jv+Eiyf7EBy/tknZGS",
      "include_colab_link": true
    },
    "kernelspec": {
      "name": "python3",
      "display_name": "Python 3"
    },
    "language_info": {
      "name": "python"
    }
  },
  "cells": [
    {
      "cell_type": "markdown",
      "metadata": {
        "id": "view-in-github",
        "colab_type": "text"
      },
      "source": [
        "<a href=\"https://colab.research.google.com/github/irjimenezv/Taller_1/blob/main/punto5.ipynb\" target=\"_parent\"><img src=\"https://colab.research.google.com/assets/colab-badge.svg\" alt=\"Open In Colab\"/></a>"
      ]
    },
    {
      "cell_type": "code",
      "execution_count": 1,
      "metadata": {
        "colab": {
          "base_uri": "https://localhost:8080/"
        },
        "id": "4niVyqmVv-6X",
        "outputId": "c68b7075-b866-4578-d276-ca870f334fd7"
      },
      "outputs": [
        {
          "output_type": "stream",
          "name": "stdout",
          "text": [
            "5\n",
            "9\n",
            "2\n",
            "la suma x+y es mayor a z\n"
          ]
        }
      ],
      "source": [
        "x= float(input())\n",
        "y= float(input())\n",
        "z= float(input())\n",
        "\n",
        "if x + y == z:\n",
        "    print(\"la suma x+y es igual a z\")\n",
        "\n",
        "elif x + y > z:\n",
        "    print(\"la suma x+y es mayor a z\")\n",
        "\n",
        "else:\n",
        "    print(\"la suma x+y es menor a z\")"
      ]
    },
    {
      "cell_type": "code",
      "source": [],
      "metadata": {
        "id": "BG_I3GdawClu"
      },
      "execution_count": 1,
      "outputs": []
    }
  ]
}
